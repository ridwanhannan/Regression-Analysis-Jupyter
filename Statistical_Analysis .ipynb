{
 "cells": [
  {
   "cell_type": "markdown",
   "metadata": {},
   "source": [
    "## Regression Analysis SDG Index vs GDP Per Capita"
   ]
  },
  {
   "cell_type": "code",
   "execution_count": 139,
   "metadata": {},
   "outputs": [],
   "source": [
    "library(readr)\n",
    "library(dplyr)\n",
    "library(tidyverse)"
   ]
  },
  {
   "cell_type": "markdown",
   "metadata": {},
   "source": [
    "### Cleaning the Data"
   ]
  },
  {
   "cell_type": "code",
   "execution_count": 140,
   "metadata": {},
   "outputs": [],
   "source": [
    "# Classication of countries based on high income countries and rest of the world. Classification based on \n",
    "# https://datahelpdesk.worldbank.org/knowledgebase/articles/906519-world-bank-country-and-lending-groups\n",
    "\n",
    "classification <- read.csv('high_income_classification.csv')\n",
    "high_income_countries <- classification %>% filter(GroupCode == 'HIC') %>% rename(ID = CountryCode)\n",
    "# high_income_countries\n",
    "# nrow(high_income_countries)\n",
    "rest_of_world_countries <- classification %>% filter(GroupCode == 'LIC' | GroupCode == 'LMY' | GroupCode == 'LMC' | GroupCode == 'MIC' | GroupCode == 'UMC') %>% rename(ID = CountryCode) %>% distinct(CountryName, .keep_all = TRUE)# remove duplicated data\n",
    "# head(rest_of_world_countries)\n",
    "# nrow(rest_of_world_countries)\n",
    "# rest_of_world_countries"
   ]
  },
  {
   "cell_type": "code",
   "execution_count": 141,
   "metadata": {},
   "outputs": [],
   "source": [
    "# SDG Index Data from Years 2016 - 2019 sourced from SDG Website \n",
    "SDG_Index_2016 <- read.csv('2016GlobalIndexResults(1).csv')\n",
    "SDG_Index_2017 <- read.csv('2017GlobalIndexResults(1).csv')\n",
    "SDG_Index_2018 <- read.csv('2018GlobalIndexResults(1).csv')\n",
    "SDG_Index_2019 <- read.csv('2019GlobalIndexResults-1.csv')"
   ]
  },
  {
   "cell_type": "code",
   "execution_count": 142,
   "metadata": {},
   "outputs": [],
   "source": [
    "SDGI_2016 <- SDG_Index_2016 %>% select(ID, SDGI_Score, SDGI_Rank) %>% rename(SDGI_2016 = \tSDGI_Score, SDGI_Rank_2016 = SDGI_Rank)\n",
    "# head(SDGI_2016)\n",
    "SDGI_2017 <- SDG_Index_2017 %>% select(ISO3\t, Global.Index.Score..0.100., Global.Index.Rank) %>% \n",
    "rename(ID = ISO3, SDGI_2017 = Global.Index.Score..0.100., SDGI_Rank_2017 = Global.Index.Rank)\n",
    "# head(SDGI_2017)\n",
    "SDGI_2018 <- SDG_Index_2018 %>% select(X\t, X.1, X.2) %>% rename(ID = X, SDGI_2018 = X.1, SDGI_Rank_2018 = X.2)\n",
    "# head(SDGI_2018)\n",
    "SDGI_2019 <- SDG_Index_2019 %>% select(\tX, X.1, X.2) %>% rename(ID = X, SDGI_2019 = X.1, SDGI_Rank_2019 = X.2)\n",
    "# head(SDGI_2019)"
   ]
  },
  {
   "cell_type": "markdown",
   "metadata": {},
   "source": [
    "### Final Data Frame "
   ]
  },
  {
   "cell_type": "code",
   "execution_count": 143,
   "metadata": {},
   "outputs": [
    {
     "data": {
      "text/html": [
       "144"
      ],
      "text/latex": [
       "144"
      ],
      "text/markdown": [
       "144"
      ],
      "text/plain": [
       "[1] 144"
      ]
     },
     "metadata": {},
     "output_type": "display_data"
    },
    {
     "data": {
      "text/html": [
       "<table>\n",
       "<caption>A data.frame: 6 × 16</caption>\n",
       "<thead>\n",
       "\t<tr><th></th><th scope=col>CountryName</th><th scope=col>GroupName</th><th scope=col>gdp_2016</th><th scope=col>gdp_2017</th><th scope=col>gdp_2018</th><th scope=col>gdp_2019</th><th scope=col>ID</th><th scope=col>SDGI_2016</th><th scope=col>SDGI_Rank_2016</th><th scope=col>SDGI_2017</th><th scope=col>SDGI_Rank_2017</th><th scope=col>SDGI_2018</th><th scope=col>SDGI_Rank_2018</th><th scope=col>SDGI_2019</th><th scope=col>SDGI_Rank_2019</th><th scope=col>GroupCode</th></tr>\n",
       "\t<tr><th></th><th scope=col>&lt;chr&gt;</th><th scope=col>&lt;dbl&gt;</th><th scope=col>&lt;dbl&gt;</th><th scope=col>&lt;dbl&gt;</th><th scope=col>&lt;dbl&gt;</th><th scope=col>&lt;dbl&gt;</th><th scope=col>&lt;chr&gt;</th><th scope=col>&lt;dbl&gt;</th><th scope=col>&lt;int&gt;</th><th scope=col>&lt;dbl&gt;</th><th scope=col>&lt;int&gt;</th><th scope=col>&lt;chr&gt;</th><th scope=col>&lt;chr&gt;</th><th scope=col>&lt;chr&gt;</th><th scope=col>&lt;chr&gt;</th><th scope=col>&lt;chr&gt;</th></tr>\n",
       "</thead>\n",
       "<tbody>\n",
       "\t<tr><th scope=row>1</th><td>Luxembourg   </td><td>0</td><td>104278.39</td><td>107627.15</td><td>116654.26</td><td>114704.59</td><td>LUX</td><td>76.66</td><td>16</td><td>75.0</td><td>33</td><td>76.1</td><td>22</td><td>74.8</td><td>34.0</td><td>HIC</td></tr>\n",
       "\t<tr><th scope=row>2</th><td>Switzerland  </td><td>0</td><td> 80172.23</td><td> 80449.99</td><td> 82818.11</td><td> 81993.73</td><td>CHE</td><td>80.87</td><td> 5</td><td>81.2</td><td> 8</td><td>80.1</td><td>7 </td><td>78.8</td><td>17.0</td><td>HIC</td></tr>\n",
       "\t<tr><th scope=row>3</th><td>Norway       </td><td>0</td><td> 70459.18</td><td> 75496.75</td><td> 81734.47</td><td> 75419.63</td><td>NOR</td><td>82.31</td><td> 3</td><td>83.9</td><td> 4</td><td>81.2</td><td>6 </td><td>80.7</td><td>8.0 </td><td>HIC</td></tr>\n",
       "\t<tr><th scope=row>4</th><td>Ireland      </td><td>0</td><td> 63197.08</td><td> 69822.35</td><td> 78621.23</td><td> 78660.96</td><td>IRL</td><td>76.75</td><td>14</td><td>77.9</td><td>19</td><td>77.5</td><td>18</td><td>78.2</td><td>19.0</td><td>HIC</td></tr>\n",
       "\t<tr><th scope=row>5</th><td>Iceland      </td><td>0</td><td> 61466.80</td><td> 71310.94</td><td> 72968.70</td><td> 66944.83</td><td>ISL</td><td>78.41</td><td> 9</td><td>79.3</td><td>14</td><td>79.7</td><td>10</td><td>79.2</td><td>14.0</td><td>HIC</td></tr>\n",
       "\t<tr><th scope=row>6</th><td>United States</td><td>0</td><td> 57927.52</td><td> 59957.73</td><td> 62840.02</td><td> 65118.36</td><td>USA</td><td>72.71</td><td>25</td><td>72.4</td><td>42</td><td>73.0</td><td>35</td><td>74.5</td><td>35.0</td><td>HIC</td></tr>\n",
       "</tbody>\n",
       "</table>\n"
      ],
      "text/latex": [
       "A data.frame: 6 × 16\n",
       "\\begin{tabular}{r|llllllllllllllll}\n",
       "  & CountryName & GroupName & gdp\\_2016 & gdp\\_2017 & gdp\\_2018 & gdp\\_2019 & ID & SDGI\\_2016 & SDGI\\_Rank\\_2016 & SDGI\\_2017 & SDGI\\_Rank\\_2017 & SDGI\\_2018 & SDGI\\_Rank\\_2018 & SDGI\\_2019 & SDGI\\_Rank\\_2019 & GroupCode\\\\\n",
       "  & <chr> & <dbl> & <dbl> & <dbl> & <dbl> & <dbl> & <chr> & <dbl> & <int> & <dbl> & <int> & <chr> & <chr> & <chr> & <chr> & <chr>\\\\\n",
       "\\hline\n",
       "\t1 & Luxembourg    & 0 & 104278.39 & 107627.15 & 116654.26 & 114704.59 & LUX & 76.66 & 16 & 75.0 & 33 & 76.1 & 22 & 74.8 & 34.0 & HIC\\\\\n",
       "\t2 & Switzerland   & 0 &  80172.23 &  80449.99 &  82818.11 &  81993.73 & CHE & 80.87 &  5 & 81.2 &  8 & 80.1 & 7  & 78.8 & 17.0 & HIC\\\\\n",
       "\t3 & Norway        & 0 &  70459.18 &  75496.75 &  81734.47 &  75419.63 & NOR & 82.31 &  3 & 83.9 &  4 & 81.2 & 6  & 80.7 & 8.0  & HIC\\\\\n",
       "\t4 & Ireland       & 0 &  63197.08 &  69822.35 &  78621.23 &  78660.96 & IRL & 76.75 & 14 & 77.9 & 19 & 77.5 & 18 & 78.2 & 19.0 & HIC\\\\\n",
       "\t5 & Iceland       & 0 &  61466.80 &  71310.94 &  72968.70 &  66944.83 & ISL & 78.41 &  9 & 79.3 & 14 & 79.7 & 10 & 79.2 & 14.0 & HIC\\\\\n",
       "\t6 & United States & 0 &  57927.52 &  59957.73 &  62840.02 &  65118.36 & USA & 72.71 & 25 & 72.4 & 42 & 73.0 & 35 & 74.5 & 35.0 & HIC\\\\\n",
       "\\end{tabular}\n"
      ],
      "text/markdown": [
       "\n",
       "A data.frame: 6 × 16\n",
       "\n",
       "| <!--/--> | CountryName &lt;chr&gt; | GroupName &lt;dbl&gt; | gdp_2016 &lt;dbl&gt; | gdp_2017 &lt;dbl&gt; | gdp_2018 &lt;dbl&gt; | gdp_2019 &lt;dbl&gt; | ID &lt;chr&gt; | SDGI_2016 &lt;dbl&gt; | SDGI_Rank_2016 &lt;int&gt; | SDGI_2017 &lt;dbl&gt; | SDGI_Rank_2017 &lt;int&gt; | SDGI_2018 &lt;chr&gt; | SDGI_Rank_2018 &lt;chr&gt; | SDGI_2019 &lt;chr&gt; | SDGI_Rank_2019 &lt;chr&gt; | GroupCode &lt;chr&gt; |\n",
       "|---|---|---|---|---|---|---|---|---|---|---|---|---|---|---|---|---|\n",
       "| 1 | Luxembourg    | 0 | 104278.39 | 107627.15 | 116654.26 | 114704.59 | LUX | 76.66 | 16 | 75.0 | 33 | 76.1 | 22 | 74.8 | 34.0 | HIC |\n",
       "| 2 | Switzerland   | 0 |  80172.23 |  80449.99 |  82818.11 |  81993.73 | CHE | 80.87 |  5 | 81.2 |  8 | 80.1 | 7  | 78.8 | 17.0 | HIC |\n",
       "| 3 | Norway        | 0 |  70459.18 |  75496.75 |  81734.47 |  75419.63 | NOR | 82.31 |  3 | 83.9 |  4 | 81.2 | 6  | 80.7 | 8.0  | HIC |\n",
       "| 4 | Ireland       | 0 |  63197.08 |  69822.35 |  78621.23 |  78660.96 | IRL | 76.75 | 14 | 77.9 | 19 | 77.5 | 18 | 78.2 | 19.0 | HIC |\n",
       "| 5 | Iceland       | 0 |  61466.80 |  71310.94 |  72968.70 |  66944.83 | ISL | 78.41 |  9 | 79.3 | 14 | 79.7 | 10 | 79.2 | 14.0 | HIC |\n",
       "| 6 | United States | 0 |  57927.52 |  59957.73 |  62840.02 |  65118.36 | USA | 72.71 | 25 | 72.4 | 42 | 73.0 | 35 | 74.5 | 35.0 | HIC |\n",
       "\n"
      ],
      "text/plain": [
       "  CountryName   GroupName gdp_2016  gdp_2017  gdp_2018  gdp_2019  ID  SDGI_2016\n",
       "1 Luxembourg    0         104278.39 107627.15 116654.26 114704.59 LUX 76.66    \n",
       "2 Switzerland   0          80172.23  80449.99  82818.11  81993.73 CHE 80.87    \n",
       "3 Norway        0          70459.18  75496.75  81734.47  75419.63 NOR 82.31    \n",
       "4 Ireland       0          63197.08  69822.35  78621.23  78660.96 IRL 76.75    \n",
       "5 Iceland       0          61466.80  71310.94  72968.70  66944.83 ISL 78.41    \n",
       "6 United States 0          57927.52  59957.73  62840.02  65118.36 USA 72.71    \n",
       "  SDGI_Rank_2016 SDGI_2017 SDGI_Rank_2017 SDGI_2018 SDGI_Rank_2018 SDGI_2019\n",
       "1 16             75.0      33             76.1      22             74.8     \n",
       "2  5             81.2       8             80.1      7              78.8     \n",
       "3  3             83.9       4             81.2      6              80.7     \n",
       "4 14             77.9      19             77.5      18             78.2     \n",
       "5  9             79.3      14             79.7      10             79.2     \n",
       "6 25             72.4      42             73.0      35             74.5     \n",
       "  SDGI_Rank_2019 GroupCode\n",
       "1 34.0           HIC      \n",
       "2 17.0           HIC      \n",
       "3 8.0            HIC      \n",
       "4 19.0           HIC      \n",
       "5 14.0           HIC      \n",
       "6 35.0           HIC      "
      ]
     },
     "metadata": {},
     "output_type": "display_data"
    }
   ],
   "source": [
    "# Combined Data frame with country classificaiton and SDG Index \n",
    "test_merge <- merge(SDGI_2016, SDGI_2017)\n",
    "merge_2 <- merge(test_merge, SDGI_2018)\n",
    "merge_3 <- merge(merge_2, SDGI_2019)\n",
    "country_classification <- merge(x = high_income_countries, y = rest_of_world_countries, all = TRUE)\n",
    "merge_4 <- merge(merge_3, country_classification)\n",
    "df <- merge_4 %>% arrange(desc(SDGI_2016)) %>% relocate(CountryName, GroupName)\n",
    "\n",
    "\n",
    "# GDP Data - Data sourced from worldbank \n",
    "GDP_per_capita <- read.csv('GDP_per_capita_worldbank.csv')\n",
    "GDP_per_capita <- GDP_per_capita %>% select(World.Development.Indicators\t, \tX.58, X.59, X.60, X.61) %>% \n",
    "rename(ID = World.Development.Indicators, gdp_2016 = X.58, gdp_2017 = X.59, gdp_2018 = X.60, gdp_2019 = X.61)\n",
    "\n",
    "\n",
    "df <- merge(df, GDP_per_capita)\n",
    "df <- na.omit(df)\n",
    "nrow(df)\n",
    "df <- df %>% arrange(desc(gdp_2016)) %>% relocate(CountryName, GroupName, gdp_2016, gdp_2017, gdp_2018, gdp_2019)\n",
    "df$GroupName <- ifelse(df$GroupName == \"High income\", 0, 1)\n",
    "head(df)\n",
    "\n",
    "# Group Name 1 if High Income, 0 otherwise \n",
    "model_2019 <- df %>% select(CountryName, ID, gdp_2019, SDGI_2019, SDGI_Rank_2019, GroupName)\n",
    "regression_model <- lm(SDGI_2019 ~ gdp_2019 + GroupName, data = model_2019)\n"
   ]
  },
  {
   "cell_type": "markdown",
   "metadata": {},
   "source": [
    "### Regression Model with Dummy Variable "
   ]
  },
  {
   "cell_type": "code",
   "execution_count": 144,
   "metadata": {},
   "outputs": [
    {
     "data": {
      "text/plain": [
       "\n",
       "Call:\n",
       "lm(formula = SDGI_2019 ~ gdp_2019 + GroupName, data = model_2019)\n",
       "\n",
       "Residuals:\n",
       "    Min      1Q  Median      3Q     Max \n",
       "-22.089  -5.806   2.049   6.204  15.305 \n",
       "\n",
       "Coefficients:\n",
       "              Estimate Std. Error t value Pr(>|t|)    \n",
       "(Intercept)  6.996e+01  2.206e+00  31.718  < 2e-16 ***\n",
       "gdp_2019     1.463e-04  4.932e-05   2.965  0.00355 ** \n",
       "GroupName   -8.839e+00  2.190e+00  -4.036 8.89e-05 ***\n",
       "---\n",
       "Signif. codes:  0 ‘***’ 0.001 ‘**’ 0.01 ‘*’ 0.05 ‘.’ 0.1 ‘ ’ 1\n",
       "\n",
       "Residual standard error: 7.746 on 141 degrees of freedom\n",
       "Multiple R-squared:  0.4426,\tAdjusted R-squared:  0.4347 \n",
       "F-statistic: 55.99 on 2 and 141 DF,  p-value: < 2.2e-16\n"
      ]
     },
     "metadata": {},
     "output_type": "display_data"
    }
   ],
   "source": [
    "# Regression model with one independent variable and one dummy variable\n",
    "# Group Name 1 if High Income, 0 otherwise \n",
    "model_2019 <- df %>% select(CountryName, ID, gdp_2019, SDGI_2019, SDGI_Rank_2019, GroupName)\n",
    "regression_model <- lm(SDGI_2019 ~ gdp_2019 + GroupName, data = model_2019)\n",
    "summary(regression_model)"
   ]
  },
  {
   "cell_type": "markdown",
   "metadata": {},
   "source": [
    "### Regression Model for High Income Countries "
   ]
  },
  {
   "cell_type": "code",
   "execution_count": 145,
   "metadata": {},
   "outputs": [
    {
     "data": {
      "text/plain": [
       "\n",
       "Call:\n",
       "lm(formula = SDGI_2019 ~ gdp_2019, data = model_2019_high_income)\n",
       "\n",
       "Residuals:\n",
       "    Min      1Q  Median      3Q     Max \n",
       "-11.640  -3.337   1.715   3.568   8.485 \n",
       "\n",
       "Coefficients:\n",
       "             Estimate Std. Error t value Pr(>|t|)    \n",
       "(Intercept) 7.289e+01  1.531e+00  47.599   <2e-16 ***\n",
       "gdp_2019    7.026e-05  3.441e-05   2.042   0.0469 *  \n",
       "---\n",
       "Signif. codes:  0 ‘***’ 0.001 ‘**’ 0.01 ‘*’ 0.05 ‘.’ 0.1 ‘ ’ 1\n",
       "\n",
       "Residual standard error: 5.299 on 46 degrees of freedom\n",
       "Multiple R-squared:  0.08309,\tAdjusted R-squared:  0.06316 \n",
       "F-statistic: 4.169 on 1 and 46 DF,  p-value: 0.04694\n"
      ]
     },
     "metadata": {},
     "output_type": "display_data"
    }
   ],
   "source": [
    "# Separate Regression Models for High Income Countries and Rest of the World \n",
    "# High Income Countries Regression Model \n",
    "model_2019_high_income <- model_2019 %>% filter(GroupName == 0)\n",
    "high_income_regression <- lm(SDGI_2019 ~ gdp_2019, data = model_2019_high_income)\n",
    "summary(high_income_regression)"
   ]
  },
  {
   "cell_type": "markdown",
   "metadata": {},
   "source": [
    "### Regression Model for Rest of The World "
   ]
  },
  {
   "cell_type": "code",
   "execution_count": 146,
   "metadata": {},
   "outputs": [
    {
     "data": {
      "text/plain": [
       "\n",
       "Call:\n",
       "lm(formula = SDGI_2019 ~ gdp_2019, data = model_2019_rest_of_the_world)\n",
       "\n",
       "Residuals:\n",
       "     Min       1Q   Median       3Q      Max \n",
       "-15.6405  -4.0709  -0.8012   4.2361  15.1512 \n",
       "\n",
       "Coefficients:\n",
       "             Estimate Std. Error t value Pr(>|t|)    \n",
       "(Intercept) 5.379e+01  1.008e+00   53.38   <2e-16 ***\n",
       "gdp_2019    2.030e-03  2.011e-04   10.09   <2e-16 ***\n",
       "---\n",
       "Signif. codes:  0 ‘***’ 0.001 ‘**’ 0.01 ‘*’ 0.05 ‘.’ 0.1 ‘ ’ 1\n",
       "\n",
       "Residual standard error: 6.22 on 94 degrees of freedom\n",
       "Multiple R-squared:  0.5201,\tAdjusted R-squared:  0.515 \n",
       "F-statistic: 101.9 on 1 and 94 DF,  p-value: < 2.2e-16\n"
      ]
     },
     "metadata": {},
     "output_type": "display_data"
    }
   ],
   "source": [
    "# Rest of the World Regression Model \n",
    "model_2019_rest_of_the_world <- model_2019 %>% filter(GroupName == 1)\n",
    "rest_of_world_regression <- lm(SDGI_2019 ~ gdp_2019, data = model_2019_rest_of_the_world)\n",
    "summary(rest_of_world_regression)"
   ]
  }
 ],
 "metadata": {
  "kernelspec": {
   "display_name": "R",
   "language": "R",
   "name": "ir"
  },
  "language_info": {
   "codemirror_mode": "r",
   "file_extension": ".r",
   "mimetype": "text/x-r-source",
   "name": "R",
   "pygments_lexer": "r",
   "version": "4.0.0"
  }
 },
 "nbformat": 4,
 "nbformat_minor": 2
}
